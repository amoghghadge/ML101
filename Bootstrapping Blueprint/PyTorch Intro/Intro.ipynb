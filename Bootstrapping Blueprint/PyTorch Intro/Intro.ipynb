{
 "cells": [
  {
   "cell_type": "code",
   "execution_count": 33,
   "metadata": {},
   "outputs": [
    {
     "name": "stdout",
     "output_type": "stream",
     "text": [
      "tensor([[1., 1., 1., 1., 1.],\n",
      "        [1., 1., 1., 1., 1.],\n",
      "        [1., 1., 1., 1., 1.]])\n"
     ]
    }
   ],
   "source": [
    "import torch\n",
    "import torch.nn as nn\n",
    "\n",
    "# Tensor - a matix or an array\n",
    "# They carry derivatives under the hood\n",
    "\n",
    "a = torch.ones(3, 5)\n",
    "print(a)\n",
    "\n",
    "# Stores gradients/derivatives for this tensor"
   ]
  },
  {
   "cell_type": "code",
   "execution_count": 34,
   "metadata": {},
   "outputs": [
    {
     "name": "stdout",
     "output_type": "stream",
     "text": [
      "tensor([5., 5., 5.])\n"
     ]
    }
   ],
   "source": [
    "# sum() and mean()\n",
    "\n",
    "sum = torch.sum(a, axis = 1)    # get sum of every row (is like going across the cols which is axis = 1)\n",
    "print(sum)"
   ]
  },
  {
   "cell_type": "code",
   "execution_count": 35,
   "metadata": {},
   "outputs": [
    {
     "name": "stdout",
     "output_type": "stream",
     "text": [
      "torch.Size([5, 1])\n",
      "tensor([[1.],\n",
      "        [1.],\n",
      "        [1.],\n",
      "        [1.],\n",
      "        [1.]])\n"
     ]
    }
   ],
   "source": [
    "# squeeze() and unsqueeze()\n",
    "\n",
    "a = torch.ones(5, 1)\n",
    "print(a.shape)\n",
    "print(a)"
   ]
  },
  {
   "cell_type": "code",
   "execution_count": 36,
   "metadata": {},
   "outputs": [
    {
     "name": "stdout",
     "output_type": "stream",
     "text": [
      "torch.Size([5])\n",
      "tensor([1., 1., 1., 1., 1.])\n"
     ]
    }
   ],
   "source": [
    "squeezed = torch.squeeze(a)\n",
    "print(squeezed.shape)\n",
    "print(squeezed)\n",
    "# became a vector of size 5"
   ]
  },
  {
   "cell_type": "code",
   "execution_count": 37,
   "metadata": {},
   "outputs": [
    {
     "name": "stdout",
     "output_type": "stream",
     "text": [
      "torch.Size([5, 1])\n",
      "tensor([[1.],\n",
      "        [1.],\n",
      "        [1.],\n",
      "        [1.],\n",
      "        [1.]])\n"
     ]
    }
   ],
   "source": [
    "# use dim = 1, because we want to make the shape a 5 x 1 and 1 is the first index\n",
    "unsqueezed = torch.unsqueeze(squeezed, dim=1)\n",
    "print(unsqueezed.shape)\n",
    "print(unsqueezed)"
   ]
  },
  {
   "cell_type": "code",
   "execution_count": 38,
   "metadata": {},
   "outputs": [
    {
     "name": "stdout",
     "output_type": "stream",
     "text": [
      "tensor([[0.5655, 0.0042]], grad_fn=<AddmmBackward0>)\n"
     ]
    }
   ],
   "source": [
    "# Neural Network Models\n",
    "\n",
    "class MyModel(nn.Module):\n",
    "    # Constructor\n",
    "    def __init__(self):\n",
    "        super().__init__()\n",
    "        self.first_layer = nn.Linear(4, 6)\n",
    "        self.second_layer = nn.Linear(6, 6)\n",
    "        self.final_layer = nn.Linear(6, 2)\n",
    "\n",
    "    # Forward - get_model_prediction(example_datapoint)\n",
    "    def forward(self, x):\n",
    "        first_layer_output = self.first_layer(x) # same as doing self.first_layer.forward(x)\n",
    "        second_layer_output = self.second_layer(first_layer_output)\n",
    "        final_layer_output = self.final_layer(second_layer_output)\n",
    "        return final_layer_output\n",
    "        # or just return self.final_layer(self.second_layer(self.first_layer(x)))\n",
    "\n",
    "model = MyModel()\n",
    "\n",
    "# 1 single data point, every data point needs 4 attributes, so matrix size is 1 x 4\n",
    "example_datapoint = torch.randn(1, 4)\n",
    "# this would give random output because initial weights are randomly initialized\n",
    "print(model(example_datapoint))\n",
    "\n",
    "# Need to train the model for some number of iterations\n",
    "\n",
    "# THEN we can actually use the model and get useful predictions"
   ]
  }
 ],
 "metadata": {
  "kernelspec": {
   "display_name": "ml",
   "language": "python",
   "name": "python3"
  },
  "language_info": {
   "codemirror_mode": {
    "name": "ipython",
    "version": 3
   },
   "file_extension": ".py",
   "mimetype": "text/x-python",
   "name": "python",
   "nbconvert_exporter": "python",
   "pygments_lexer": "ipython3",
   "version": "3.12.11"
  }
 },
 "nbformat": 4,
 "nbformat_minor": 2
}
