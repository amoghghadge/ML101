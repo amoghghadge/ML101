{
 "cells": [
  {
   "cell_type": "markdown",
   "metadata": {},
   "source": [
    "Once a PyTorch model is defined, how do you train it and use it?"
   ]
  },
  {
   "cell_type": "code",
   "execution_count": null,
   "metadata": {},
   "outputs": [],
   "source": [
    "import torch\n",
    "import torch.nn as nn\n",
    "from torchtyping import TensorType\n",
    "import matplotlib.pyplot as plt\n",
    "\n",
    "torch.manual_seed(0)\n",
    "\n",
    "class DigitRecognition(nn.Module):\n",
    "    def __init__(self):\n",
    "        super().__init__()\n",
    "        # Define the architecture here\n",
    "        self.first_layer = nn.Linear(784, 512)\n",
    "        self.relu = nn.ReLU()   # introduces nonlinearity to allow model to learn more complex relationships\n",
    "        self.dropout = nn.Dropout(0.2)\n",
    "        self.final_layer = nn.Linear(512, 10)\n",
    "        self.sigmoid = nn.Sigmoid()     # makes all outputs between 0 and 1 to represent a probability\n",
    "    \n",
    "    def forward(self, images: TensorType[float]) -> TensorType[float]:\n",
    "        torch.manual_seed(0)\n",
    "        # Return the model's prediction to 4 decimal places\n",
    "        out = self.sigmoid(self.final_layer(self.dropout(self.relu(self.first_layer(images)))))\n",
    "        return torch.round(out, decimals=4)"
   ]
  },
  {
   "cell_type": "code",
   "execution_count": null,
   "metadata": {},
   "outputs": [],
   "source": [
    "model = DigitRecognition()\n",
    "\n",
    "# loss function to judge probabilities against the true values for classification\n",
    "loss_function = nn.CrossEntropyLoss()\n",
    "\n",
    "# optimizer is object in pytorch that does gradient descent for us\n",
    "# model.parameters() gives all the weights inside NN to optimize and update over the iterations of training\n",
    "# Adam has optimized tricks on gradient descent to dynamically change the learning rate, default l.r. of 0.001\n",
    "optimizer = torch.optim.Adam(model.parameters())\n",
    "\n",
    "# epoch means the model gets trained on the entire training dataset once\n",
    "# 5 epochs means 5 passes over the training dataset (too many epochs could lead to overfitting and memorization)\n",
    "epochs = 5\n",
    "\n",
    "for epoch in range(epochs):\n",
    "    for images, labels in train_dataloader:     # train_dataloader is iterator giving us tuples of a batch of images with their corresponding labels (we're doing mini-batch GD)\n",
    "        images = images.view(images.shape[0], 784)  # reshapes 28x28 input data to be flattened vector, torch.reshape could also be used\n",
    "\n",
    "        # TRAINING BODY\n",
    "        model_prediction = model(images)\n",
    "        optimizer.zero_grad()   # cancel out all derivatives calculated in previous iteration of gradient descent\n",
    "        loss = loss_function(model_prediction, labels)\n",
    "        loss.backward()     # calculate every single derivative necessary to perform gradient descent, most computationally intensive\n",
    "        # gets derivative of error w.r.t weights so we can update those weights based on the learning rate\n",
    "        optimizer.step()    # this line updates all our weights, like new_w = old_w - derivative * learning_rate"
   ]
  },
  {
   "cell_type": "code",
   "execution_count": null,
   "metadata": {},
   "outputs": [],
   "source": [
    "model.eval()    # put model in evaluation mode because we want predictions now, don't worry about calculating derivatives\n",
    "\n",
    "for images, labels in test_dataloader:\n",
    "    images = images.view(images.shape[0], 784)\n",
    "\n",
    "    model_prediction = model(images) # has dimension of batch_size x 10\n",
    "    values, indices = torch.max(model_prediction, dim = 1)  # take max across the cols\n",
    "\n",
    "    for i in range(len(images)):\n",
    "        plt.imshow(images[i].view(28, 28))\n",
    "        plt.show()\n",
    "        print(indices[i].item())    # .item() extracts the tensor value into a standard python scalar type (float, int, etc)"
   ]
  }
 ],
 "metadata": {
  "kernelspec": {
   "display_name": "ml",
   "language": "python",
   "name": "python3"
  },
  "language_info": {
   "codemirror_mode": {
    "name": "ipython",
    "version": 3
   },
   "file_extension": ".py",
   "mimetype": "text/x-python",
   "name": "python",
   "nbconvert_exporter": "python",
   "pygments_lexer": "ipython3",
   "version": "3.12.11"
  }
 },
 "nbformat": 4,
 "nbformat_minor": 2
}
