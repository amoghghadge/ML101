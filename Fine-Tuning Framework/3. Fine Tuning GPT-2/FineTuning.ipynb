{
 "cells": [
  {
   "cell_type": "markdown",
   "metadata": {},
   "source": [
    "## Data Preperation"
   ]
  },
  {
   "cell_type": "code",
   "execution_count": null,
   "metadata": {},
   "outputs": [],
   "source": [
    "# !pip install datasets\n",
    "# !pip install transformers -U\n",
    "# !pip install accelerate                   library that greatly speeds up training, allows us to automatically make use of multiple GPUs if available\n",
    "# !pip install trl                          library that lets us instantiate our trainer and define our training arguments, highly optimized for training transformers"
   ]
  },
  {
   "cell_type": "code",
   "execution_count": null,
   "metadata": {},
   "outputs": [],
   "source": [
    "import torch\n",
    "device = torch.device('cuda' if torch.cuda.is_available() else 'cpu')"
   ]
  },
  {
   "cell_type": "code",
   "execution_count": 4,
   "metadata": {},
   "outputs": [
    {
     "name": "stderr",
     "output_type": "stream",
     "text": [
      "Generating train split: 100%|██████████| 1000/1000 [00:00<00:00, 71581.26 examples/s]\n"
     ]
    }
   ],
   "source": [
    "from datasets import load_dataset   # api that hugging face provides where using the appropriate string that identifies the name of a dataset, you can\n",
    "# pass that into the load dataset function and it will download the dataset you desire\n",
    "DATASET_NAME = \"mlabonne/guanaco-llama2-1k\"        # dataset of size 1000, allows us to fine tune gpt 2 into a model that can actually perform question and answering\n",
    "\n",
    "dataset = load_dataset(DATASET_NAME)"
   ]
  },
  {
   "cell_type": "code",
   "execution_count": null,
   "metadata": {},
   "outputs": [
    {
     "name": "stdout",
     "output_type": "stream",
     "text": [
      "DatasetDict({\n",
      "    train: Dataset({\n",
      "        features: ['text'],\n",
      "        num_rows: 1000\n",
      "    })\n",
      "})\n"
     ]
    }
   ],
   "source": [
    "print(dataset)      # this dataset only has \"train\" key, because this dataset is primarily for training, other datasets may have \"test\" key for testing\n",
    "# the train key maps to dataset object which itself is a dictionary with the features being text (no lables just blocks of text) and it has 1000 examples"
   ]
  },
  {
   "cell_type": "code",
   "execution_count": 6,
   "metadata": {},
   "outputs": [
    {
     "name": "stdout",
     "output_type": "stream",
     "text": [
      "Dataset({\n",
      "    features: ['text'],\n",
      "    num_rows: 1000\n",
      "})\n"
     ]
    }
   ],
   "source": [
    "training_dataset = dataset['train']\n",
    "print(training_dataset)"
   ]
  },
  {
   "cell_type": "code",
   "execution_count": null,
   "metadata": {},
   "outputs": [
    {
     "data": {
      "text/plain": [
       "{'text': '<s>[INST] Me gradué hace poco de la carrera de medicina ¿Me podrías aconsejar para conseguir rápidamente un puesto de trabajo? [/INST] Esto vale tanto para médicos como para cualquier otra profesión tras finalizar los estudios aniversarios y mi consejo sería preguntar a cuántas personas haya conocido mejor. En este caso, mi primera opción sería hablar con otros profesionales médicos, echar currículos en hospitales y cualquier centro de salud. En paralelo, trabajaría por mejorar mi marca personal como médico mediante un blog o formas digitales de comunicación como los vídeos. Y, para mejorar las posibilidades de encontrar trabajo, también participaría en congresos y encuentros para conseguir más contactos. Y, además de todo lo anterior, seguiría estudiando para presentarme a las oposiciones y ejercer la medicina en el sector público de mi país. </s>'}"
      ]
     },
     "execution_count": 7,
     "metadata": {},
     "output_type": "execute_result"
    }
   ],
   "source": [
    "# example question / answer pair in spanish (model will learn to chat in multiple languages)\n",
    "training_dataset[0]"
   ]
  },
  {
   "cell_type": "code",
   "execution_count": null,
   "metadata": {},
   "outputs": [
    {
     "data": {
      "text/plain": [
       "{'text': '<s>[INST] write me a 1000 words essay about deez nuts. [/INST] The Deez Nuts meme first gained popularity in 2015 on the social media platform Vine. The video featured a young man named Rodney Bullard, who recorded himself asking people if they had heard of a particular rapper. When they responded that they had not, he would respond with the phrase \"Deez Nuts\" and film their reactions. The video quickly went viral, and the phrase became a popular meme. \\n\\nSince then, Deez Nuts has been used in a variety of contexts to interrupt conversations, derail discussions, or simply add humor to a situation. It has been used in internet memes, in popular music, and even in politics. In the 2016 US presidential election, a 15-year-old boy named Brady Olson registered as an independent candidate under the name Deez Nuts. He gained some traction in the polls and even made appearances on national news programs.\\n\\nThe Deez Nuts meme has had a significant impact on popular culture. It has become a recognizable catchphrase that people use to add humor to everyday conversations. The meme has also been used to satirize politics and other serious issues. For example, in 2016, a group of activists in the UK used the phrase \"Deez Nuts for President\" as part of a campaign to encourage young people to vote in the EU referendum. </s><s>[INST] Rewrite the essay in a more casual way. Instead of sounding proffesional, sound like a college student who is forced to write the essay but refuses to do so in the propper way. Use casual words and slang when possible. [/INST] Yo, so you want me to write a 1000-word essay about Deez Nuts? Alright, fine. So, this whole thing started on Vine back in 2015. Some dude named Rodney Bullard made a video where he would ask people if they knew a rapper, and when they said no, he would hit them with the classic line: \"Deez Nuts!\" People loved it, and it became a viral meme.\\n\\nNowadays, Deez Nuts is used for all kinds of stuff. You can throw it out there to interrupt someone or just to be funny. It\\'s all over the internet, in music, and even in politics. In fact, during the 2016 US presidential election, a kid named Brady Olson registered as an independent candidate under the name Deez Nuts. He actually got some attention from the media and made appearances on TV and everything.\\n\\nThe impact of Deez Nuts on our culture is pretty huge. It\\'s become a thing that everyone knows and uses to add some humor to their everyday conversations. Plus, people have used it to make fun of politics and serious issues too. Like, in the UK, some groups of activists used the phrase \"Deez Nuts for President\" to encourage young people to vote in the EU referendum.\\n\\nThere you have it, a thousand words about Deez Nuts in a more casual tone. Can I go back to playing video games now? </s>'}"
      ]
     },
     "execution_count": 8,
     "metadata": {},
     "output_type": "execute_result"
    }
   ],
   "source": [
    "# another question / answer pair, model learns from prompt and response and picks up the pattern / learn to chat back and forth with us\n",
    "# we don't need labels, training examples are embedded within the block of text to help the model learn to predict the next token\n",
    "training_dataset[11]"
   ]
  },
  {
   "cell_type": "code",
   "execution_count": 10,
   "metadata": {},
   "outputs": [
    {
     "data": {
      "text/plain": [
       "{'text': '<s>[INST] Ich möchte für ein Handy-Game den Flug von Papierfliegern simulieren. Was für Formeln können mir helfen um das möglichst realistisch zu tun? [/INST] Um den Flug von Papierfliegern in einem Spiel realistisch zu simulieren, gibt es einige wichtige Formeln, die Sie berücksichtigen sollten:\\n\\nLift-Kraft: Der Lift, der einen Papierflieger in der Luft hält, wird durch die Bewegung der Luft über die Oberfläche des Flügels erzeugt. Die Formel zur Berechnung der Lift-Kraft lautet:\\n\\nL = 0.5 * rho * v^2 * A * Cl\\n\\nL = Lift-Kraft\\nrho = Luftdichte\\nv = Geschwindigkeit des Flugzeugs\\nA = Flügeloberfläche\\nCl = Auftriebsbeiwert des Flügels\\n\\nLuftwiderstand: Der Luftwiderstand ist die Kraft, die gegen den Flug eines Papierfliegers wirkt und durch die Bewegung der Luft entsteht, wenn sie um das Flugzeug herumströmt. Die Formel zur Berechnung des Luftwiderstands lautet:\\n\\nD = 0.5 * rho * v^2 * A * Cd\\n\\nD = Luftwiderstand\\nrho = Luftdichte\\nv = Geschwindigkeit des Flugzeugs\\nA = Querschnittsfläche des Flugzeugs\\nCd = Luftwiderstandsbeiwert des Flugzeugs\\n\\nGravitationskraft: Die Gravitationskraft ist die Kraft, die das Flugzeug zur Erde zieht. Die Formel zur Berechnung der Gravitationskraft lautet:\\n\\nFg = m * g\\n\\nFg = Gravitationskraft\\nm = Masse des Flugzeugs\\ng = Beschleunigung durch die Schwerkraft (9,81 m/s^2)\\n\\nGier, Nick- und Rollwinkel: Um die Flugbewegungen eines Papierfliegers realistisch zu simulieren, müssen Sie auch die Gier-, Nick- und Rollwinkel berücksichtigen. Diese Winkel bestimmen die Ausrichtung des Flugzeugs in der Luft und beeinflussen seine Flugbahn.\\n\\nGierwinkel: Der Gierwinkel beschreibt die Drehung des Flugzeugs um die senkrechte Achse. Es wird normalerweise durch den Ruderausschlag des Seitenruders gesteuert.\\nNickwinkel: Der Nickwinkel beschreibt die Drehung des Flugzeugs um die Querachse. Es wird normalerweise durch den Ruderausschlag des Höhenruders gesteuert.\\nRollwinkel: Der Rollwinkel beschreibt die Drehung des Flugzeugs um die Längsachse. Es wird normalerweise durch den Ruderausschlag des Querruders gesteuert.\\nMit diesen Formeln und den entsprechenden Eingabeparametern (z.B. Flugzeuggröße, Fluggeschwindigkeit, Luftdichte) können Sie den Flug von Papierfliegern in Ihrem Spiel realistisch simulieren. Beachten Sie jedoch, dass auch andere Faktoren wie z.B. Wind und Turbulenzen einen Einfluss auf den Flug haben können, und dass die Simulation möglicherweise aufwendig sein kann. </s><s>[INST] Könntest du mir die Formel bitte als Methoden und C# programmieren, damit ich sie in der Game engine Unity verwenden kann? [/INST] Hier ist eine C#-Klasse, die die Formeln für Lift und Luftwiderstand implementiert. Gravitation ließe sich zwar ebenfalls leicht implementieren, ist in Unity aber bereits eingebaut.\\n\\n```csharp\\nclass PaperPlanePhysics {\\n\\t// Physikalische Konstanten\\n\\tpublic float rho = 1.2041f; // Luftdichte, kg/m³\\n\\t\\n\\t// Parameter des Papierfliegers\\n\\tpublic float A; // Flügeloberfläche, m²\\n\\tpublic float Cl; // Auftriebsbeiwert\\n\\tpublic float Cd; // Luftwiderstandsbeiwert\\n\\t\\n\\t// Auftriebskraft\\n\\tpublic float ComputeLift(float v) {\\n\\t\\treturn 0.5f * rho * v*v * A * Cl;\\n\\t}\\n\\t\\n\\t// Luftwiderstand\\n\\tpublic float ComputeDrag(float v) {\\n\\t\\treturn 0.5f * rho * v*v * A * Cd;\\n\\t}\\n\\t\\n\\t// Resultierende Kräfte als Vektor berechnen\\n\\tpublic Vector3 ComputeForceVector(Vector3 velocity, Vector3 forward, Vector3 up) {\\n\\t\\t// Windgeschwindigkeit glatt entlang des Flügels\\n\\t\\tfloat forwardVelocity = Vector3.Dot(velocity, forward);\\n\\t\\t\\n\\t\\t// Vereinfachung: In der Realität ist die Abhängigkeit vom Winkel zwischen Flügel und Luftgeschwindigkeit komplexer.\\n\\t\\t// Nehmen wir an dass es nur von der Geschwindigkeit gerade nach vorne abhängt.\\n\\t\\tVector3 lift = up * ComputeLift(forwardVelocity);\\n\\t\\t\\n\\t\\t// Vereinfachung: Luftwiderstand wirkt in allen Richtungen, möglicherweise mit unterschiedlichen Faktoren.\\n\\t\\t// Wir berechnen hier nur den Luftwiderstand nach vorne.\\n\\t\\tVector3 drag = -forwardVelocity * ComputeDrag(forwardVelocity);\\n\\t\\t\\n\\t\\treturn lift + drag;\\n\\t}\\n}\\n```\\n\\nIn einer Game-Engine wie Unity benötigst du in der Regel einen 2D- oder 3D-Vektor für die Kräfte. Die Methode `ComputeForceVector` ist ein Beispiel dafür wie du die Vektoren berechnen kannst. </s><s>[INST] Ich arbeite international mit anderen Entwicklern zusammen und schreibe deshalb ausschließlich englischen Code. Kannst du die Kommentare bitte übersetzen und etwas aussagekräftigere Variablennamen für die Flügeloberfläche, den Auftrieb und den Luftwiderstand verwenden? [/INST] Gerne! Hier ist der englische Code mit besseren Variablennamen:\\n\\n```cs\\nclass PaperPlanePhysics {\\n\\n\\t// physical constants\\n\\tpublic float rho = 1.2041f; // air density, kg/m³\\n\\t\\n\\t// characteristics of the paper plane\\n\\tpublic float wingSurf; // wing surface, m²\\n\\tpublic float liftCoeff; // lift coefficient\\n\\tpublic float dragCoeff; // drag coefficient\\n\\t\\n\\t// calculate lift force based on velocity v\\n\\tpublic float ComputeLift(float v) {\\n\\t\\treturn 0.5f * rho * (v * v) * wingSurf * liftCoeff;\\n\\t}\\n\\t\\n\\t// calculate air drag based on velocity v\\n\\tpublic float ComputeDrag(float v) {\\n\\t\\treturn 0.5f * rho * (v * v) * wingSurf * dragCoeff;\\n\\t}\\n\\t\\n\\t// calculate all resulting forces as a vector\\n\\tpublic Vector3 ComputeForceVector(Vector3 velocity, Vector3 forward, Vector3 up) {\\n\\t\\t// wind speed along the wing\\n\\t\\tfloat forwardVelocity = Vector3.Dot(velocity, forward);\\n\\t\\t\\n\\t\\t// Simplification: In reality, the relationship between wing angle and airspeed is much more complex.\\n\\t\\t// We assume that it depends only on the speed straight ahead.\\n\\t\\tVector3 lift = up * ComputeLift(forwardVelocity);\\n\\t\\t\\n\\t\\t// Simplification: Air resistance works in all directions, possibly with different factors.\\n\\t\\t// We only compute the forward drag here.\\n\\t\\tVector3 drag = -forwardVelocity * ComputeDrag(forwardVelocity);\\n\\t\\t\\n\\t\\treturn lift + drag;\\n\\t}\\n}\\n``` </s>'}"
      ]
     },
     "execution_count": 10,
     "metadata": {},
     "output_type": "execute_result"
    }
   ],
   "source": [
    "training_dataset[7]"
   ]
  },
  {
   "cell_type": "code",
   "execution_count": null,
   "metadata": {},
   "outputs": [],
   "source": [
    "MODEL_NAME = \"distilgpt2\"\n",
    "import transformers\n",
    "# in transformers library, there is a base class called AutoModel\n",
    "# AutoModelForCausalLM is a subclass of AutoModel we're using (gpt2 and chatbots are a type of language model called causal language models) \n",
    "# They're called this because they generate one token at a time\n",
    "# If we asked a causal language model to write a poem, it would generate this response one token at a time, until the final response:\n",
    "# This\n",
    "# This is\n",
    "# This is a\n",
    "# This is a funny\n",
    "# This is a funny poem\n",
    "# The tokens are predicted in a cause and effect way - the tokens in the past will influence the next word\n",
    "from transformers import AutoModelForCausalLM       # used to automatically get the model based on the model_name\n",
    "from transformers import AutoTokenizer              # automatically retrieve the right tokenizer object based on the model being used\n",
    "\n",
    "model = AutoModelForCausalLM.from_pretrained(MODEL_NAME, device_map = \"auto\")   # device_map tells the library to automatically move things to the GPU or CPU when necessary\n",
    "model.config.use_cache = True   # we don't need to recompute stuff for previous tokens\n",
    "# This\n",
    "# This is\n",
    "# This is a         -> the only new token is \"a\", cache previous results / hidden states associated with the prior tokens\n",
    "\n",
    "tokenizer = AutoTokenizer.from_pretrained(MODEL_NAME, trust_remote_code=True)   # tells library to trust code and pretrained model downloaded from internet\n",
    "# during training, we feed in batches of examples at a time, and all the examples may not be the same length \n",
    "# so to make them the same length we use padding, with the padding token being the end of sentence token\n",
    "# as soon as a sentence is over (no more tokens left), padding by repeating end of sentence conveys the same thing - that the sentence is over\n",
    "# we need to clarify we will do our padding on the right so it goes at the end of the sequence, left pad would add end of sentence tokens to the start\n",
    "# also set the integer associated with the padding token to be the same integer associated with the end of sentence token\n",
    "tokenizer.pad_token = tokenizer.eos_token\n",
    "tokenizer.padding_side = 'right'\n",
    "tokenizer.pad_token_id = tokenizer.eos_token_id\n",
    "\n",
    "generation_configuration = model.generation_config\n",
    "generation_configuration.pad_token_id = tokenizer.eos_token_id\n",
    "generation_configuration.eos_token_id = tokenizer.eos_token_id\n",
    "# max amount of tokens to be generated by model, it can't just go on forever\n",
    "generation_configuration.max_new_tokens = 1024  # gpt-2 has a context length of 1024 (it can only factor in past 1024 tokens for the response)\n",
    "\n",
    "# variables below relate to how we sample from the model, this affects the quality and how diverse the model's outputs are (super bland vs fun and varied)\n",
    "# divides every raw number in the list (before they get converted to probabilities with softmax) by this constant - affects how diverse / crazy model responses are\n",
    "# low temperature below 1 sharpens distribution and makes higher probs even more likely to be chosen - less diverse\n",
    "# high temperature above 1 flattens distribution and gives increased chance for lower probability tokens to be chosen - more diverse\n",
    "generation_configuration.temperature = 0.7\n",
    "# top-p means we only consider highest probability tokens in the distribution: aggregate their sum and stop considering the rest of the tokens that makes the sum exceed p\n",
    "# discard less likely tokens and don't consider them in sampling process\n",
    "generation_configuration.top_p = 0.9\n",
    "# only consider the k highest probability tokens during the sampling process (the top k tokens are then renormalized to sum to 1)\n",
    "generation_configuration.top_k = 20\n",
    "\n",
    "# model will output a probability distribution of which token should come next: \n",
    "# [0.2, 0.23, 0.69, 0.1, ..., 0.01, 0.14]"
   ]
  },
  {
   "cell_type": "markdown",
   "metadata": {},
   "source": [
    "## Training + Testing"
   ]
  }
 ],
 "metadata": {
  "kernelspec": {
   "display_name": "ml",
   "language": "python",
   "name": "python3"
  },
  "language_info": {
   "codemirror_mode": {
    "name": "ipython",
    "version": 3
   },
   "file_extension": ".py",
   "mimetype": "text/x-python",
   "name": "python",
   "nbconvert_exporter": "python",
   "pygments_lexer": "ipython3",
   "version": "3.12.11"
  }
 },
 "nbformat": 4,
 "nbformat_minor": 2
}
